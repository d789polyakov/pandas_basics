{
 "cells": [
  {
   "cell_type": "markdown",
   "id": "f25ec85b",
   "metadata": {},
   "source": [
    "# Импорт данных"
   ]
  },
  {
   "cell_type": "code",
   "execution_count": 28,
   "id": "ed38cd30",
   "metadata": {},
   "outputs": [],
   "source": [
    "import os\n",
    "import pandas as pd\n",
    "\n",
    "file_path1 = \"dataset1.csv\"\n",
    "file_path2 = \"dataset2.csv\"\n",
    "file_path3 = \"dataset3.xlsx\""
   ]
  },
  {
   "cell_type": "markdown",
   "id": "41045f54",
   "metadata": {},
   "source": [
    "## Read csv\n",
    "\n",
    "https://pandas.pydata.org/pandas-docs/stable/reference/api/pandas.read_csv.html\n",
    "\n",
    "Импортируем CSV dataset1.csv.\n",
    "Кодировка utf-8.\n",
    "\n",
    "Визуальный анализ всё же нужен. Поэтому представить себе, что можно неглядя импортировать данные - сложно. Лучше визуализировать сырые данные в табличных программах типа excel / numbers или в крайнем случае текстовый редактор для csv.\n",
    "\n",
    "В случае с csv для начала нам нужно визуально в каком-либо редакторе определить разделитель значений <code>delimiter</code> и разделитель десятичных знаков у чисел <code>decimal</code>."
   ]
  },
  {
   "cell_type": "code",
   "execution_count": 33,
   "id": "9f3a2b6f",
   "metadata": {},
   "outputs": [
    {
     "name": "stdout",
     "output_type": "stream",
     "text": [
      "  Unnamed: 0    Unnamed: 1    Unnamed: 2  Unnamed: 3  Unnamed: 4  Unnamed: 5  \\\n",
      "0      INDEX  STRING_FIELD  NUMBER_FIELD  DATE_FIELD         NaN         NaN   \n",
      "1        NaN           NaN           NaN         NaN         NaN         NaN   \n",
      "2          1      Джигурда          1500  14.11.2020         NaN         NaN   \n",
      "3          2    Э. Суровый       2000.15  21.05.2023         NaN         NaN   \n",
      "4          3    Snoop Dogg   1000000,001  31.01.2022         NaN         NaN   \n",
      "5          4      Галустян           1,5  01.01.2022         NaN         NaN   \n",
      "6          5    Bill Gates   -523588,125  12.12.2020         NaN         NaN   \n",
      "7       авыф        Итого:    479913,376         NaN         NaN         NaN   \n",
      "8       фыва           NaN           NaN         NaN         NaN         NaN   \n",
      "9        NaN           NaN           NaN       текст         NaN         NaN   \n",
      "\n",
      "   Unnamed: 6  \n",
      "0         NaN  \n",
      "1         NaN  \n",
      "2         NaN  \n",
      "3         NaN  \n",
      "4         NaN  \n",
      "5         NaN  \n",
      "6         NaN  \n",
      "7         NaN  \n",
      "8         NaN  \n",
      "9         NaN  \n",
      "---------------\n",
      "  Unnamed: 0    Unnamed: 1    Unnamed: 2  Unnamed: 3  Unnamed: 4  Unnamed: 5  \\\n",
      "0      INDEX  STRING_FIELD  NUMBER_FIELD  DATE_FIELD         NaN         NaN   \n",
      "1        NaN           NaN           NaN         NaN         NaN         NaN   \n",
      "2          1      Джигурда          1500  14.11.2020         NaN         NaN   \n",
      "\n",
      "   Unnamed: 6  \n",
      "0         NaN  \n",
      "1         NaN  \n",
      "2         NaN  \n",
      "---------------\n",
      "  Unnamed: 0  Unnamed: 1   Unnamed: 2  Unnamed: 3  Unnamed: 4  Unnamed: 5  \\\n",
      "6          5  Bill Gates  -523588,125  12.12.2020         NaN         NaN   \n",
      "7       авыф      Итого:   479913,376         NaN         NaN         NaN   \n",
      "8       фыва         NaN          NaN         NaN         NaN         NaN   \n",
      "9        NaN         NaN          NaN       текст         NaN         NaN   \n",
      "\n",
      "   Unnamed: 6  \n",
      "6         NaN  \n",
      "7         NaN  \n",
      "8         NaN  \n",
      "9         NaN  \n",
      "---------------\n",
      "<class 'pandas.core.frame.DataFrame'>\n",
      "RangeIndex: 10 entries, 0 to 9\n",
      "Data columns (total 7 columns):\n",
      " #   Column      Non-Null Count  Dtype  \n",
      "---  ------      --------------  -----  \n",
      " 0   Unnamed: 0  8 non-null      object \n",
      " 1   Unnamed: 1  7 non-null      object \n",
      " 2   Unnamed: 2  7 non-null      object \n",
      " 3   Unnamed: 3  7 non-null      object \n",
      " 4   Unnamed: 4  0 non-null      float64\n",
      " 5   Unnamed: 5  0 non-null      float64\n",
      " 6   Unnamed: 6  0 non-null      float64\n",
      "dtypes: float64(3), object(4)\n",
      "memory usage: 688.0+ bytes\n",
      "None\n"
     ]
    }
   ],
   "source": [
    "df1 = pd.read_csv(file_path1, delimiter = \";\", decimal=\",\")\n",
    "print(df1)\n",
    "print(\"---------------\")\n",
    "print(df1.head(3))  # первые 3 строки\n",
    "print(\"---------------\")\n",
    "print(df1.tail(4))  # последние 4 строки (можно вариировать для наглядности)\n",
    "print(\"---------------\")\n",
    "print(df1.info())\n",
    "# Лучше лишний раз использовать tail для просмотра окончания талицы, чем удалить нужные данные!!!"
   ]
  },
  {
   "cell_type": "markdown",
   "id": "7f4653a9",
   "metadata": {},
   "source": [
    "Данные могут быть не совсем структурированы и сырой импорт может дать печальный результат. Первая строка очевидно пуста (судя по отсутствующим названиям заголовков), заголовки находятся на 2 строке. Однако треться строка (сразу после заголовков) тоже пуста. В конце импортированной талицы тоже лишние строки - их номера в крайней левой позиции вывода.\n",
    "\n",
    "Можно переимпортировать данные более избирательно. Для этого используем параметры <code>usecols</code> и <code>skiprows</code>. Для обоих в качестве значений используются __последовательности__ - листы, картежи или функции, их возвращающие. При выборе номеров строк для пропуска помним, что верхняя строка импортируется как заголовок и дальше список начинается с 0.\n",
    "\n",
    "__Лучше лишний раз использовать tail для просмотра окончания талицы, чем удалить нужные данные!!!__"
   ]
  },
  {
   "cell_type": "code",
   "execution_count": 30,
   "id": "1ef2bed2",
   "metadata": {},
   "outputs": [
    {
     "name": "stdout",
     "output_type": "stream",
     "text": [
      "   INDEX STRING_FIELD NUMBER_FIELD  DATE_FIELD\n",
      "0      1     Джигурда         1500  14.11.2020\n",
      "1      2   Э. Суровый      2000.15  21.05.2023\n",
      "2      3   Snoop Dogg  1000000,001  31.01.2022\n",
      "3      4     Галустян          1,5  01.01.2022\n",
      "4      5   Bill Gates  -523588,125  12.12.2020\n",
      "---------------\n",
      "   INDEX STRING_FIELD NUMBER_FIELD  DATE_FIELD\n",
      "0      1     Джигурда         1500  14.11.2020\n",
      "1      2   Э. Суровый      2000.15  21.05.2023\n",
      "2      3   Snoop Dogg  1000000,001  31.01.2022\n",
      "---------------\n",
      "   INDEX STRING_FIELD NUMBER_FIELD  DATE_FIELD\n",
      "2      3   Snoop Dogg  1000000,001  31.01.2022\n",
      "3      4     Галустян          1,5  01.01.2022\n",
      "4      5   Bill Gates  -523588,125  12.12.2020\n",
      "---------------\n",
      "<class 'pandas.core.frame.DataFrame'>\n",
      "RangeIndex: 5 entries, 0 to 4\n",
      "Data columns (total 4 columns):\n",
      " #   Column        Non-Null Count  Dtype \n",
      "---  ------        --------------  ----- \n",
      " 0   INDEX         5 non-null      int64 \n",
      " 1   STRING_FIELD  5 non-null      object\n",
      " 2   NUMBER_FIELD  5 non-null      object\n",
      " 3   DATE_FIELD    5 non-null      object\n",
      "dtypes: int64(1), object(3)\n",
      "memory usage: 288.0+ bytes\n",
      "None\n"
     ]
    }
   ],
   "source": [
    "df1 = pd.read_csv(file_path1, delimiter = \";\", decimal=\",\", usecols=range(4), skiprows=[0,2,8,9,10])\n",
    "print(df1)\n",
    "print(\"---------------\")\n",
    "print(df1.head(3))\n",
    "print(\"---------------\")\n",
    "print(df1.tail(3))\n",
    "print(\"---------------\")\n",
    "print(df1.info())"
   ]
  },
  {
   "cell_type": "markdown",
   "id": "5cb08645",
   "metadata": {},
   "source": [
    "Дата в DATE_FIELD конвертировалась как строка. Перенесём её а тип данных для дат."
   ]
  },
  {
   "cell_type": "code",
   "execution_count": 31,
   "id": "aa50f3b4",
   "metadata": {},
   "outputs": [
    {
     "name": "stdout",
     "output_type": "stream",
     "text": [
      "   INDEX STRING_FIELD NUMBER_FIELD DATE_FIELD\n",
      "0      1     Джигурда         1500 2020-11-14\n",
      "1      2   Э. Суровый      2000.15 2023-05-21\n",
      "2      3   Snoop Dogg  1000000,001 2022-01-31\n",
      "3      4     Галустян          1,5 2022-01-01\n",
      "4      5   Bill Gates  -523588,125 2020-12-12\n",
      "<class 'pandas.core.frame.DataFrame'>\n",
      "RangeIndex: 5 entries, 0 to 4\n",
      "Data columns (total 4 columns):\n",
      " #   Column        Non-Null Count  Dtype         \n",
      "---  ------        --------------  -----         \n",
      " 0   INDEX         5 non-null      int64         \n",
      " 1   STRING_FIELD  5 non-null      object        \n",
      " 2   NUMBER_FIELD  5 non-null      object        \n",
      " 3   DATE_FIELD    5 non-null      datetime64[ns]\n",
      "dtypes: datetime64[ns](1), int64(1), object(2)\n",
      "memory usage: 288.0+ bytes\n",
      "None\n"
     ]
    }
   ],
   "source": [
    "df1[\"DATE_FIELD\"] = pd.to_datetime(df1[\"DATE_FIELD\"], format=\"%d.%m.%Y\")\n",
    "print(df1)\n",
    "print(df1.info())"
   ]
  },
  {
   "cell_type": "markdown",
   "id": "21baf435",
   "metadata": {},
   "source": [
    "Поле NUMBER_FIELD должно быть числовым. Оно конвертировалось в строку из-за того, что в одном из числовых значений использован разделитель десятичных знаков \".\", хотя мы указали \",\".\n",
    "\n",
    "Эту проблему можно решить сперва заменив все запятые на точки, а затем конвертировать поле. Для конвертации используется функция <a href=\"https://pandas.pydata.org/pandas-docs/stable/reference/api/pandas.to_numeric.html\" target=_blanc>to_numeric</a>, а для её корректной работы разделитель в исходных текстовх значениях должен быть \".\"."
   ]
  },
  {
   "cell_type": "code",
   "execution_count": 32,
   "id": "66d714f5",
   "metadata": {},
   "outputs": [
    {
     "name": "stdout",
     "output_type": "stream",
     "text": [
      "   INDEX STRING_FIELD  NUMBER_FIELD DATE_FIELD\n",
      "0      1     Джигурда      1500.000 2020-11-14\n",
      "1      2   Э. Суровый      2000.150 2023-05-21\n",
      "2      3   Snoop Dogg   1000000.001 2022-01-31\n",
      "3      4     Галустян         1.500 2022-01-01\n",
      "4      5   Bill Gates   -523588.125 2020-12-12\n",
      "<class 'pandas.core.frame.DataFrame'>\n",
      "RangeIndex: 5 entries, 0 to 4\n",
      "Data columns (total 4 columns):\n",
      " #   Column        Non-Null Count  Dtype         \n",
      "---  ------        --------------  -----         \n",
      " 0   INDEX         5 non-null      int64         \n",
      " 1   STRING_FIELD  5 non-null      object        \n",
      " 2   NUMBER_FIELD  5 non-null      float64       \n",
      " 3   DATE_FIELD    5 non-null      datetime64[ns]\n",
      "dtypes: datetime64[ns](1), float64(1), int64(1), object(1)\n",
      "memory usage: 288.0+ bytes\n",
      "None\n"
     ]
    }
   ],
   "source": [
    "df1[\"NUMBER_FIELD\"] = pd.to_numeric(df1[\"NUMBER_FIELD\"].str.replace(\",\", \".\"))\n",
    "print(df1)\n",
    "print(df1.info())"
   ]
  },
  {
   "cell_type": "markdown",
   "id": "a315b244",
   "metadata": {},
   "source": [
    "Теперь данные готовы для использования.\n",
    "\n",
    "Сделаем то же самое для excel файла dataset3.xlsx"
   ]
  },
  {
   "cell_type": "code",
   "execution_count": null,
   "id": "01058d54",
   "metadata": {},
   "outputs": [],
   "source": []
  }
 ],
 "metadata": {
  "kernelspec": {
   "display_name": "Python 3 (ipykernel)",
   "language": "python",
   "name": "python3"
  },
  "language_info": {
   "codemirror_mode": {
    "name": "ipython",
    "version": 3
   },
   "file_extension": ".py",
   "mimetype": "text/x-python",
   "name": "python",
   "nbconvert_exporter": "python",
   "pygments_lexer": "ipython3",
   "version": "3.9.7"
  }
 },
 "nbformat": 4,
 "nbformat_minor": 5
}
